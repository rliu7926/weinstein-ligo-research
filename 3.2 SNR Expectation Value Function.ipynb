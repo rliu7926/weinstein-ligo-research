{
  "nbformat": 4,
  "nbformat_minor": 0,
  "metadata": {
    "colab": {
      "name": "3.2 SNR Expectation Value Function.ipynb",
      "provenance": [],
      "authorship_tag": "ABX9TyPP/Os+pUjExPV3QWeB2bZf",
      "include_colab_link": true
    },
    "kernelspec": {
      "name": "python3",
      "display_name": "Python 3"
    },
    "language_info": {
      "name": "python"
    }
  },
  "cells": [
    {
      "cell_type": "markdown",
      "metadata": {
        "id": "view-in-github",
        "colab_type": "text"
      },
      "source": [
        "<a href=\"https://colab.research.google.com/github/rliu7926/weinstein-ligo-research/blob/main/3.2%20SNR%20Expectation%20Value%20Function.ipynb\" target=\"_parent\"><img src=\"https://colab.research.google.com/assets/colab-badge.svg\" alt=\"Open In Colab\"/></a>"
      ]
    },
    {
      "cell_type": "code",
      "metadata": {
        "colab": {
          "base_uri": "https://localhost:8080/"
        },
        "id": "xu02E7iEHmtY",
        "outputId": "4c6d307e-49ab-4f45-a52f-366a740f0656"
      },
      "source": [
        "! pip install -q 'PyCBC==1.15.3' 'lalsuite==6.66'\n",
        "! pip install astropy\n",
        "\n",
        "from astropy.cosmology import FlatLambdaCDM, Planck18, z_at_value\n",
        "import numpy as np\n",
        "import pylab\n",
        "\n",
        "import astropy.units as u\n",
        "import matplotlib.pyplot as plt\n",
        "\n",
        "from pycbc.waveform import get_td_waveform\n",
        "\n",
        "import pycbc\n",
        "import pycbc.noise\n",
        "import pycbc.psd\n",
        "\n",
        "from random import randint\n",
        "from pycbc.filter import matched_filter\n",
        "from pycbc.psd import interpolate, inverse_spectrum_truncation\n",
        "\n",
        "import pandas as pd\n",
        "from pycbc.types import TimeSeries"
      ],
      "execution_count": null,
      "outputs": [
        {
          "output_type": "stream",
          "text": [
            "Requirement already satisfied: astropy in /usr/local/lib/python3.7/dist-packages (4.2.1)\n",
            "Requirement already satisfied: pyerfa in /usr/local/lib/python3.7/dist-packages (from astropy) (1.7.2)\n",
            "Requirement already satisfied: numpy>=1.17 in /usr/local/lib/python3.7/dist-packages (from astropy) (1.19.5)\n"
          ],
          "name": "stdout"
        }
      ]
    },
    {
      "cell_type": "code",
      "metadata": {
        "id": "56pNIsmKQcdR"
      },
      "source": [
        "## Taken from notebook 3.1 (updated redshift and duration)\n",
        "\n",
        "def create_waveform(mass1, mass2, resolution, frequencybound, distance, cosmology=Planck18):\n",
        "\n",
        "  redshift = 1 + z_at_value(cosmology.comoving_distance, distance * u.Mpc)\n",
        "  \n",
        "  fbound = frequencybound * redshift\n",
        "\n",
        "  waveform, waveform_cross = get_td_waveform(approximant=\"SEOBNRv4_opt\",\n",
        "                                             mass1=mass1,\n",
        "                                             mass2=mass2,\n",
        "                                             delta_t=resolution/redshift,\n",
        "                                             f_lower=fbound)\n",
        "  \n",
        "  waveform_amplitude = [0.0] * len(waveform)\n",
        "  waveform_time = [0.0] * len(waveform)\n",
        "\n",
        "  for i in range(len(waveform)):\n",
        "    waveform_amplitude[i] = waveform[i]\n",
        "    waveform_time[i] = waveform.sample_times[i]\n",
        "\n",
        "  waveform_amplitude = [i/distance for i in waveform_amplitude]\n",
        "  waveform_time = [i*redshift for i in waveform_time]\n",
        "\n",
        "  waveform_amplitude = np.array(waveform_amplitude)\n",
        "  waveform_time = np.array(waveform_time)\n",
        "\n",
        "  return waveform_amplitude, waveform_time"
      ],
      "execution_count": null,
      "outputs": []
    },
    {
      "cell_type": "code",
      "metadata": {
        "id": "pSbgIhi88pH_"
      },
      "source": [
        "## Create a GW Signal\n",
        "\n",
        "## Resolution of signal = 4096 Hz\n",
        "## Frequency resolution = 16 Hz\n",
        "## Lower frequency bound = 20 Hz\n",
        "\n",
        "gwamp, gwtime = create_waveform(mass1=30, mass2=30, resolution=1.0/4096, frequencybound=20, distance=100)\n",
        "gwsignal = TimeSeries(gwamp, delta_t=1.0/4096)\n",
        "\n",
        "gwsignalfreq = gwsignal.to_frequencyseries(delta_f = 1.0/16)"
      ],
      "execution_count": null,
      "outputs": []
    },
    {
      "cell_type": "code",
      "metadata": {
        "colab": {
          "base_uri": "https://localhost:8080/",
          "height": 286
        },
        "id": "9iNNzf6d96YR",
        "outputId": "6f2ab81a-2cdd-4778-eaf9-5e1611494dbd"
      },
      "source": [
        "## Choose a PSD template\n",
        "\n",
        "flow = 20\n",
        "delta_f = 1.0 / 16\n",
        "flen = int(4096 / (2 * delta_f)) + 1\n",
        "\n",
        "psd = pycbc.psd.aLIGODesignSensitivityP1200087(flen, delta_f, flow)\n",
        "\n",
        "pylab.loglog(psd.sample_frequencies, psd)\n",
        "pylab.xlim(flow, 4096/2)"
      ],
      "execution_count": null,
      "outputs": [
        {
          "output_type": "execute_result",
          "data": {
            "text/plain": [
              "(20, 2048.0)"
            ]
          },
          "metadata": {
            "tags": []
          },
          "execution_count": 13
        },
        {
          "output_type": "display_data",
          "data": {
            "image/png": "[encoded data removed]",
            "text/plain": [
              "<Figure size 432x288 with 1 Axes>"
            ]
          },
          "metadata": {
            "tags": [],
            "needs_background": "light"
          }
        }
      ]
    },
    {
      "cell_type": "code",
      "metadata": {
        "colab": {
          "base_uri": "https://localhost:8080/",
          "height": 326
        },
        "id": "fOn1EgwTGgMh",
        "outputId": "72aaad42-c3d7-4074-a121-45172600836f"
      },
      "source": [
        "## Create a template\n",
        "\n",
        "template, _ = get_td_waveform(approximant=\"SEOBNRv4_opt\", mass1=30, mass2=30, delta_t=1.0/4096, f_lower=20)\n",
        "templatefreq = template.to_frequencyseries(delta_f=1.0/16)\n",
        "\n",
        "pylab.plot(templatefreq)"
      ],
      "execution_count": null,
      "outputs": [
        {
          "output_type": "stream",
          "text": [
            "/usr/local/lib/python3.7/dist-packages/numpy/core/_asarray.py:83: ComplexWarning: Casting complex values to real discards the imaginary part\n",
            "  return array(a, dtype, copy=False, order=order)\n"
          ],
          "name": "stderr"
        },
        {
          "output_type": "execute_result",
          "data": {
            "text/plain": [
              "[<matplotlib.lines.Line2D at 0x7f7ad019edd0>]"
            ]
          },
          "metadata": {
            "tags": []
          },
          "execution_count": 14
        },
        {
          "output_type": "display_data",
          "data": {
            "image/png": "[encoded data removed]",
            "text/plain": [
              "<Figure size 432x288 with 1 Axes>"
            ]
          },
          "metadata": {
            "tags": [],
            "needs_background": "light"
          }
        }
      ]
    },
    {
      "cell_type": "code",
      "metadata": {
        "colab": {
          "base_uri": "https://localhost:8080/"
        },
        "id": "IuiFrlSU_hRH",
        "outputId": "976b5580-a214-47f0-ff4e-37512bdedeb6"
      },
      "source": [
        "## Calculate the SNR\n",
        "\n",
        "gwdata = gwsignalfreq + psd\n",
        "\n",
        "snr = matched_filter(template=templatefreq, data=gwdata, psd=psd, low_frequency_cutoff=20)\n",
        "\n",
        "print(max(abs(snr)))"
      ],
      "execution_count": null,
      "outputs": [
        {
          "output_type": "stream",
          "text": [
            "346.474083820019\n"
          ],
          "name": "stdout"
        }
      ]
    },
    {
      "cell_type": "code",
      "metadata": {
        "id": "6t8FVb0VAKg1"
      },
      "source": [
        "def expectation_SNR(mass1, mass2, templatemass1, templatemass2, resolution, psdresolution, lowfreq, distance, psd, cosmology=Planck18):\n",
        "\n",
        "  ## Create waveform \n",
        "\n",
        "  gwamp, gwtime = create_waveform(mass1=mass1, mass2=mass2, resolution=resolution, frequencybound=lowfreq, distance=distance, cosmology=cosmology)\n",
        "  gwsignal = TimeSeries(gwamp, delta_t=resolution)\n",
        "  gwsignalfreq = gwsignal.to_frequencyseries(delta_f = psdresolution)\n",
        "\n",
        "\n",
        "  ## Create PSD \n",
        "\n",
        "  flen = int((1 / resolution) / (2 * psdresolution)) + 1\n",
        "\n",
        "  if psd == 'aLIGOAPlusDesignSensitivityT1800042':\n",
        "    psdfreq = pycbc.psd.aLIGOAPlusDesignSensitivityT1800042(flen, psdresolution, lowfreq)\n",
        "  \n",
        "  if psd == 'aLIGODesignSensitivityP1200087':\n",
        "    psdfreq = pycbc.psd.aLIGODesignSensitivityP1200087(flen, psdresolution, lowfreq)\n",
        "\n",
        "  if psd == 'CosmicExplorerP1600143':\n",
        "    psdfreq = pycbc.psd.CosmicExplorerP1600143(flen, psdresolution, lowfreq)\n",
        "\n",
        "\n",
        "  ## Create template\n",
        "\n",
        "  template, _ = get_td_waveform(approximant=\"SEOBNRv4_opt\", mass1=templatemass1, mass2=templatemass2, delta_t=resolution, f_lower=lowfreq)\n",
        "  templatefreq = template.to_frequencyseries(delta_f = psdresolution)\n",
        "\n",
        "\n",
        "  ## Calculate SNR\n",
        "\n",
        "  gwdata = gwsignalfreq + psdfreq\n",
        "  snr = matched_filter(template=templatefreq, data=gwdata, psd=psdfreq, low_frequency_cutoff=lowfreq)\n",
        "\n",
        "  print(\"The signal-to-noise ratio is: {}\".format(max(abs(snr))))\n",
        "\n",
        "  return(max(abs(snr)))"
      ],
      "execution_count": null,
      "outputs": []
    },
    {
      "cell_type": "code",
      "metadata": {
        "colab": {
          "base_uri": "https://localhost:8080/"
        },
        "id": "Kr0RbYtCD8YC",
        "outputId": "29dc390d-c298-4b10-ef89-3a53c8651471"
      },
      "source": [
        "distances = np.arange(50, 1000, 50)\n",
        "snr30 = [0] * len(distances)\n",
        "\n",
        "for i in range(len(snr30)):\n",
        "  snr30[i] = expectation_SNR(mass1=30, mass2=30, templatemass1=30, templatemass2=30, resolution=1.0/2048, psdresolution=1.0/16, lowfreq=20, distance=distances[i], psd='aLIGODesignSensitivityP1200087')"
      ],
      "execution_count": null,
      "outputs": [
        {
          "output_type": "stream",
          "text": [
            "The signal-to-noise ratio is: 723.4278415940181\n",
            "The signal-to-noise ratio is: 346.45773095430235\n",
            "The signal-to-noise ratio is: 214.98297463891893\n",
            "The signal-to-noise ratio is: 149.5167068523878\n",
            "The signal-to-noise ratio is: 111.35581183868456\n",
            "The signal-to-noise ratio is: 87.15569164131708\n",
            "The signal-to-noise ratio is: 71.95618178884268\n",
            "The signal-to-noise ratio is: 61.404309194938186\n",
            "The signal-to-noise ratio is: 53.80761883992265\n",
            "The signal-to-noise ratio is: 47.37593593525607\n",
            "The signal-to-noise ratio is: 41.99187190757474\n",
            "The signal-to-noise ratio is: 37.23051617925417\n",
            "The signal-to-noise ratio is: 33.39606701749905\n",
            "The signal-to-noise ratio is: 30.064908898153686\n",
            "The signal-to-noise ratio is: 27.30691901810005\n",
            "The signal-to-noise ratio is: 25.118213839766334\n",
            "The signal-to-noise ratio is: 23.355606006161015\n",
            "The signal-to-noise ratio is: 21.82549010961944\n",
            "The signal-to-noise ratio is: 20.53490111818488\n"
          ],
          "name": "stdout"
        }
      ]
    },
    {
      "cell_type": "code",
      "metadata": {
        "colab": {
          "base_uri": "https://localhost:8080/",
          "height": 282
        },
        "id": "lax4bNJBM9Vt",
        "outputId": "9c9c3b3e-abe3-439c-e2a9-b87160663713"
      },
      "source": [
        "pylab.plot(distances, snr30)"
      ],
      "execution_count": null,
      "outputs": [
        {
          "output_type": "execute_result",
          "data": {
            "text/plain": [
              "[<matplotlib.lines.Line2D at 0x7f265f854f90>]"
            ]
          },
          "metadata": {
            "tags": []
          },
          "execution_count": 14
        },
        {
          "output_type": "display_data",
          "data": {
            "image/png": "[encoded data removed]",
            "text/plain": [
              "<Figure size 432x288 with 1 Axes>"
            ]
          },
          "metadata": {
            "tags": [],
            "needs_background": "light"
          }
        }
      ]
    }
  ]
}